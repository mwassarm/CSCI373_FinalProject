{
 "cells": [
  {
   "cell_type": "code",
   "execution_count": 3,
   "id": "591893eb-2903-41d3-9049-48912119bb2e",
   "metadata": {},
   "outputs": [],
   "source": [
    "import pandas as pd\n",
    "import numpy as np\n",
    "from pybaseball import batting_stats\n",
    "from pybaseball import statcast #Going to need for xBA xSLG and xwOBA (All blank of FGs)"
   ]
  },
  {
   "cell_type": "code",
   "execution_count": 33,
   "id": "318a730b-6c7b-4dcb-b0a5-bcea2c1be1ed",
   "metadata": {},
   "outputs": [],
   "source": [
    "batting = batting_stats(2015, 2023, qual = 150) #Start of statcast\n",
    "batting.to_csv(\"batting.csv\")"
   ]
  },
  {
   "cell_type": "code",
   "execution_count": 34,
   "id": "12812f16-12e4-41a7-a678-439adc49b29d",
   "metadata": {},
   "outputs": [],
   "source": [
    "#makes it only players with multiple seasons\n",
    "batting = batting.groupby(\"IDfg\", group_keys=False).filter(lambda x: x.shape[0] > 1)"
   ]
  },
  {
   "cell_type": "code",
   "execution_count": 35,
   "id": "a75c8932-f988-4ec3-b730-71e2b5d74611",
   "metadata": {},
   "outputs": [
    {
     "data": {
      "text/plain": [
       "IDfg         0\n",
       "Season       0\n",
       "Name         0\n",
       "Team         0\n",
       "Age          0\n",
       "          ... \n",
       "CSW%         0\n",
       "xBA       2767\n",
       "xSLG      2767\n",
       "xwOBA     2767\n",
       "L-WAR        0\n",
       "Length: 320, dtype: int64"
      ]
     },
     "execution_count": 35,
     "metadata": {},
     "output_type": "execute_result"
    }
   ],
   "source": [
    "null_variables = batting.isnull().sum() #find nulls (cant have for ML)\n",
    "null_variables"
   ]
  },
  {
   "cell_type": "code",
   "execution_count": 36,
   "id": "b5a073f6-02ed-4064-8f3e-6df589c5f623",
   "metadata": {},
   "outputs": [],
   "source": [
    "full_variables = list(batting.columns[null_variables == 0]) #gets list of all non nulls\n",
    "batting = batting[full_variables].copy() #updates to only non nulls"
   ]
  },
  {
   "cell_type": "code",
   "execution_count": 37,
   "id": "2f8a96f2-7621-41fd-9274-3729ac009253",
   "metadata": {},
   "outputs": [
    {
     "data": {
      "text/plain": [
       "Name       object\n",
       "Team       object\n",
       "Dol        object\n",
       "Age Rng    object\n",
       "dtype: object"
      ]
     },
     "execution_count": 37,
     "metadata": {},
     "output_type": "execute_result"
    }
   ],
   "source": [
    "batting.dtypes[batting.dtypes == \"object\"] #check for object type (cant have for ML) "
   ]
  },
  {
   "cell_type": "code",
   "execution_count": 1,
   "id": "a542df0b-fb91-49b8-9c76-18049507ad61",
   "metadata": {},
   "outputs": [
    {
     "ename": "NameError",
     "evalue": "name 'batting' is not defined",
     "output_type": "error",
     "traceback": [
      "\u001b[0;31m---------------------------------------------------------------------------\u001b[0m",
      "\u001b[0;31mNameError\u001b[0m                                 Traceback (most recent call last)",
      "Cell \u001b[0;32mIn[1], line 1\u001b[0m\n\u001b[0;32m----> 1\u001b[0m \u001b[38;5;28;01mif\u001b[39;00m \u001b[38;5;124m\"\u001b[39m\u001b[38;5;124mDol\u001b[39m\u001b[38;5;124m\"\u001b[39m \u001b[38;5;129;01min\u001b[39;00m \u001b[43mbatting\u001b[49m\u001b[38;5;241m.\u001b[39mcolumns:\n\u001b[1;32m      2\u001b[0m     \u001b[38;5;28;01mdel\u001b[39;00m batting[\u001b[38;5;124m\"\u001b[39m\u001b[38;5;124mDol\u001b[39m\u001b[38;5;124m\"\u001b[39m]\n\u001b[1;32m      3\u001b[0m \u001b[38;5;28;01mif\u001b[39;00m \u001b[38;5;124m\"\u001b[39m\u001b[38;5;124mAge Rng\u001b[39m\u001b[38;5;124m\"\u001b[39m \u001b[38;5;129;01min\u001b[39;00m batting\u001b[38;5;241m.\u001b[39mcolumns:\n",
      "\u001b[0;31mNameError\u001b[0m: name 'batting' is not defined"
     ]
    }
   ],
   "source": [
    "#removes all object other than name\n",
    "if \"Dol\" in batting.columns:\n",
    "    del batting[\"Dol\"]\n",
    "if \"Age Rng\" in batting.columns:\n",
    "    del batting[\"Age Rng\"]\n",
    "if \"Team\" in batting.columns:\n",
    "    del batting[\"Team\"]"
   ]
  },
  {
   "cell_type": "code",
   "execution_count": 41,
   "id": "8453f264-d99f-4b4b-84ea-abdc8d775f1a",
   "metadata": {},
   "outputs": [
    {
     "data": {
      "text/plain": [
       "Name    object\n",
       "dtype: object"
      ]
     },
     "execution_count": 41,
     "metadata": {},
     "output_type": "execute_result"
    }
   ],
   "source": [
    "batting.dtypes[batting.dtypes == \"object\"] #confirms removal"
   ]
  },
  {
   "cell_type": "code",
   "execution_count": 40,
   "id": "f264ea7c-82d0-4681-80d4-8af682370467",
   "metadata": {},
   "outputs": [],
   "source": []
  }
 ],
 "metadata": {
  "kernelspec": {
   "display_name": "Python 3 (ipykernel)",
   "language": "python",
   "name": "python3"
  },
  "language_info": {
   "codemirror_mode": {
    "name": "ipython",
    "version": 3
   },
   "file_extension": ".py",
   "mimetype": "text/x-python",
   "name": "python",
   "nbconvert_exporter": "python",
   "pygments_lexer": "ipython3",
   "version": "3.12.2"
  }
 },
 "nbformat": 4,
 "nbformat_minor": 5
}
